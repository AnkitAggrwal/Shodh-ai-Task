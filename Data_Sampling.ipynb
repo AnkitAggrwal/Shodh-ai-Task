{
 "cells": [
  {
   "cell_type": "code",
   "execution_count": 2,
   "id": "a0d0ab32",
   "metadata": {},
   "outputs": [],
   "source": [
    "import pandas as pd\n",
    "import numpy as np\n",
    "import os"
   ]
  },
  {
   "cell_type": "code",
   "execution_count": 5,
   "id": "d6ec69a5",
   "metadata": {},
   "outputs": [
    {
     "name": "stdout",
     "output_type": "stream",
     "text": [
      "Found source file: 'accepted_2007_to_2018Q4.csv'\n"
     ]
    }
   ],
   "source": [
    "# --- Configuration ---\n",
    "\n",
    "# This is the big file you downloaded from Kaggle\n",
    "SOURCE_FILENAME = 'accepted_2007_to_2018Q4.csv' \n",
    "\n",
    "# This is the new, smaller file we will create\n",
    "SAMPLE_FILENAME = 'data_sample.csv' \n",
    "\n",
    "# Define your desired sample size\n",
    "# 150k-200k is a good target for this project\n",
    "TARGET_SAMPLE_SIZE = 150000 \n",
    "\n",
    "# Define the chunk size to read the large file\n",
    "# This loads 100k rows into memory at a time\n",
    "CHUNK_SIZE = 100000 \n",
    "\n",
    "# Check if the source file exists\n",
    "if not os.path.exists(SOURCE_FILENAME):\n",
    "    print(f\"Error: Source file not found at '{SOURCE_FILENAME}'\")\n",
    "    print(\"Please download it from Kaggle and place it in the same directory.\")\n",
    "else:\n",
    "    print(f\"Found source file: '{SOURCE_FILENAME}'\")"
   ]
  },
  {
   "cell_type": "code",
   "execution_count": 6,
   "id": "56a30f77",
   "metadata": {},
   "outputs": [
    {
     "name": "stdout",
     "output_type": "stream",
     "text": [
      "Starting to sample 'accepted_2007_to_2018Q4.csv'...\n",
      "First pass: Counting total rows for accurate sampling fraction...\n"
     ]
    },
    {
     "name": "stderr",
     "output_type": "stream",
     "text": [
      "C:\\Users\\Ankit Aggarwal\\AppData\\Local\\Temp\\ipykernel_26460\\1373503302.py:16: DtypeWarning: Columns (0) have mixed types. Specify dtype option on import or set low_memory=False.\n",
      "  for chunk in reader:\n",
      "C:\\Users\\Ankit Aggarwal\\AppData\\Local\\Temp\\ipykernel_26460\\1373503302.py:16: DtypeWarning: Columns (0) have mixed types. Specify dtype option on import or set low_memory=False.\n",
      "  for chunk in reader:\n",
      "C:\\Users\\Ankit Aggarwal\\AppData\\Local\\Temp\\ipykernel_26460\\1373503302.py:16: DtypeWarning: Columns (0) have mixed types. Specify dtype option on import or set low_memory=False.\n",
      "  for chunk in reader:\n",
      "C:\\Users\\Ankit Aggarwal\\AppData\\Local\\Temp\\ipykernel_26460\\1373503302.py:16: DtypeWarning: Columns (0) have mixed types. Specify dtype option on import or set low_memory=False.\n",
      "  for chunk in reader:\n",
      "C:\\Users\\Ankit Aggarwal\\AppData\\Local\\Temp\\ipykernel_26460\\1373503302.py:16: DtypeWarning: Columns (0) have mixed types. Specify dtype option on import or set low_memory=False.\n",
      "  for chunk in reader:\n",
      "C:\\Users\\Ankit Aggarwal\\AppData\\Local\\Temp\\ipykernel_26460\\1373503302.py:16: DtypeWarning: Columns (0) have mixed types. Specify dtype option on import or set low_memory=False.\n",
      "  for chunk in reader:\n",
      "C:\\Users\\Ankit Aggarwal\\AppData\\Local\\Temp\\ipykernel_26460\\1373503302.py:16: DtypeWarning: Columns (0) have mixed types. Specify dtype option on import or set low_memory=False.\n",
      "  for chunk in reader:\n",
      "C:\\Users\\Ankit Aggarwal\\AppData\\Local\\Temp\\ipykernel_26460\\1373503302.py:16: DtypeWarning: Columns (0) have mixed types. Specify dtype option on import or set low_memory=False.\n",
      "  for chunk in reader:\n",
      "C:\\Users\\Ankit Aggarwal\\AppData\\Local\\Temp\\ipykernel_26460\\1373503302.py:16: DtypeWarning: Columns (0) have mixed types. Specify dtype option on import or set low_memory=False.\n",
      "  for chunk in reader:\n",
      "C:\\Users\\Ankit Aggarwal\\AppData\\Local\\Temp\\ipykernel_26460\\1373503302.py:16: DtypeWarning: Columns (0) have mixed types. Specify dtype option on import or set low_memory=False.\n",
      "  for chunk in reader:\n",
      "C:\\Users\\Ankit Aggarwal\\AppData\\Local\\Temp\\ipykernel_26460\\1373503302.py:16: DtypeWarning: Columns (0) have mixed types. Specify dtype option on import or set low_memory=False.\n",
      "  for chunk in reader:\n",
      "C:\\Users\\Ankit Aggarwal\\AppData\\Local\\Temp\\ipykernel_26460\\1373503302.py:16: DtypeWarning: Columns (0) have mixed types. Specify dtype option on import or set low_memory=False.\n",
      "  for chunk in reader:\n",
      "C:\\Users\\Ankit Aggarwal\\AppData\\Local\\Temp\\ipykernel_26460\\1373503302.py:16: DtypeWarning: Columns (0) have mixed types. Specify dtype option on import or set low_memory=False.\n",
      "  for chunk in reader:\n",
      "C:\\Users\\Ankit Aggarwal\\AppData\\Local\\Temp\\ipykernel_26460\\1373503302.py:16: DtypeWarning: Columns (0) have mixed types. Specify dtype option on import or set low_memory=False.\n",
      "  for chunk in reader:\n",
      "C:\\Users\\Ankit Aggarwal\\AppData\\Local\\Temp\\ipykernel_26460\\1373503302.py:16: DtypeWarning: Columns (0) have mixed types. Specify dtype option on import or set low_memory=False.\n",
      "  for chunk in reader:\n"
     ]
    },
    {
     "name": "stdout",
     "output_type": "stream",
     "text": [
      "Total rows found: 2260701\n",
      "Target sample size: 150000\n",
      "Sampling fraction to apply to each chunk: 0.066351\n",
      "Second pass: Reading chunks and sampling...\n"
     ]
    },
    {
     "name": "stderr",
     "output_type": "stream",
     "text": [
      "C:\\Users\\Ankit Aggarwal\\AppData\\Local\\Temp\\ipykernel_26460\\1373503302.py:29: DtypeWarning: Columns (19) have mixed types. Specify dtype option on import or set low_memory=False.\n",
      "  for chunk in reader:\n",
      "C:\\Users\\Ankit Aggarwal\\AppData\\Local\\Temp\\ipykernel_26460\\1373503302.py:29: DtypeWarning: Columns (19,59) have mixed types. Specify dtype option on import or set low_memory=False.\n",
      "  for chunk in reader:\n",
      "C:\\Users\\Ankit Aggarwal\\AppData\\Local\\Temp\\ipykernel_26460\\1373503302.py:29: DtypeWarning: Columns (19) have mixed types. Specify dtype option on import or set low_memory=False.\n",
      "  for chunk in reader:\n",
      "C:\\Users\\Ankit Aggarwal\\AppData\\Local\\Temp\\ipykernel_26460\\1373503302.py:29: DtypeWarning: Columns (19) have mixed types. Specify dtype option on import or set low_memory=False.\n",
      "  for chunk in reader:\n",
      "C:\\Users\\Ankit Aggarwal\\AppData\\Local\\Temp\\ipykernel_26460\\1373503302.py:29: DtypeWarning: Columns (0,19,59,118) have mixed types. Specify dtype option on import or set low_memory=False.\n",
      "  for chunk in reader:\n",
      "C:\\Users\\Ankit Aggarwal\\AppData\\Local\\Temp\\ipykernel_26460\\1373503302.py:29: DtypeWarning: Columns (0) have mixed types. Specify dtype option on import or set low_memory=False.\n",
      "  for chunk in reader:\n",
      "C:\\Users\\Ankit Aggarwal\\AppData\\Local\\Temp\\ipykernel_26460\\1373503302.py:29: DtypeWarning: Columns (0,19,118) have mixed types. Specify dtype option on import or set low_memory=False.\n",
      "  for chunk in reader:\n",
      "C:\\Users\\Ankit Aggarwal\\AppData\\Local\\Temp\\ipykernel_26460\\1373503302.py:29: DtypeWarning: Columns (0,19,118,129,130,131,134,135,136,139,145,146,147) have mixed types. Specify dtype option on import or set low_memory=False.\n",
      "  for chunk in reader:\n",
      "C:\\Users\\Ankit Aggarwal\\AppData\\Local\\Temp\\ipykernel_26460\\1373503302.py:29: DtypeWarning: Columns (0,129,130,131,134,135,136,139,145,146,147) have mixed types. Specify dtype option on import or set low_memory=False.\n",
      "  for chunk in reader:\n",
      "C:\\Users\\Ankit Aggarwal\\AppData\\Local\\Temp\\ipykernel_26460\\1373503302.py:29: DtypeWarning: Columns (0,19,118) have mixed types. Specify dtype option on import or set low_memory=False.\n",
      "  for chunk in reader:\n",
      "C:\\Users\\Ankit Aggarwal\\AppData\\Local\\Temp\\ipykernel_26460\\1373503302.py:29: DtypeWarning: Columns (19) have mixed types. Specify dtype option on import or set low_memory=False.\n",
      "  for chunk in reader:\n",
      "C:\\Users\\Ankit Aggarwal\\AppData\\Local\\Temp\\ipykernel_26460\\1373503302.py:29: DtypeWarning: Columns (0,19,59) have mixed types. Specify dtype option on import or set low_memory=False.\n",
      "  for chunk in reader:\n",
      "C:\\Users\\Ankit Aggarwal\\AppData\\Local\\Temp\\ipykernel_26460\\1373503302.py:29: DtypeWarning: Columns (19) have mixed types. Specify dtype option on import or set low_memory=False.\n",
      "  for chunk in reader:\n",
      "C:\\Users\\Ankit Aggarwal\\AppData\\Local\\Temp\\ipykernel_26460\\1373503302.py:29: DtypeWarning: Columns (0,19,59,118,129,130,131,134,135,136,139,145,146,147) have mixed types. Specify dtype option on import or set low_memory=False.\n",
      "  for chunk in reader:\n",
      "C:\\Users\\Ankit Aggarwal\\AppData\\Local\\Temp\\ipykernel_26460\\1373503302.py:29: DtypeWarning: Columns (0,129,130,131,134,135,136,139,145,146,147) have mixed types. Specify dtype option on import or set low_memory=False.\n",
      "  for chunk in reader:\n",
      "C:\\Users\\Ankit Aggarwal\\AppData\\Local\\Temp\\ipykernel_26460\\1373503302.py:29: DtypeWarning: Columns (129,130,131,134,135,136,139) have mixed types. Specify dtype option on import or set low_memory=False.\n",
      "  for chunk in reader:\n",
      "C:\\Users\\Ankit Aggarwal\\AppData\\Local\\Temp\\ipykernel_26460\\1373503302.py:29: DtypeWarning: Columns (0,19,49,59,118,129,130,131,134,135,136,139) have mixed types. Specify dtype option on import or set low_memory=False.\n",
      "  for chunk in reader:\n",
      "C:\\Users\\Ankit Aggarwal\\AppData\\Local\\Temp\\ipykernel_26460\\1373503302.py:29: DtypeWarning: Columns (0,19,49,59) have mixed types. Specify dtype option on import or set low_memory=False.\n",
      "  for chunk in reader:\n",
      "C:\\Users\\Ankit Aggarwal\\AppData\\Local\\Temp\\ipykernel_26460\\1373503302.py:29: DtypeWarning: Columns (129,130,131,134,135,136,139) have mixed types. Specify dtype option on import or set low_memory=False.\n",
      "  for chunk in reader:\n",
      "C:\\Users\\Ankit Aggarwal\\AppData\\Local\\Temp\\ipykernel_26460\\1373503302.py:29: DtypeWarning: Columns (0,19,49,59,129,130,131,134,135,136,139) have mixed types. Specify dtype option on import or set low_memory=False.\n",
      "  for chunk in reader:\n",
      "C:\\Users\\Ankit Aggarwal\\AppData\\Local\\Temp\\ipykernel_26460\\1373503302.py:29: DtypeWarning: Columns (0,19,59,118) have mixed types. Specify dtype option on import or set low_memory=False.\n",
      "  for chunk in reader:\n",
      "C:\\Users\\Ankit Aggarwal\\AppData\\Local\\Temp\\ipykernel_26460\\1373503302.py:29: DtypeWarning: Columns (0,118) have mixed types. Specify dtype option on import or set low_memory=False.\n",
      "  for chunk in reader:\n",
      "C:\\Users\\Ankit Aggarwal\\AppData\\Local\\Temp\\ipykernel_26460\\1373503302.py:29: DtypeWarning: Columns (0,19) have mixed types. Specify dtype option on import or set low_memory=False.\n",
      "  for chunk in reader:\n"
     ]
    },
    {
     "name": "stdout",
     "output_type": "stream",
     "text": [
      "Sampling complete.\n",
      "Final sample shape: (149998, 151)\n"
     ]
    }
   ],
   "source": [
    "# --- File Sampling ---\n",
    "# We will read the file in chunks, take a random sample from each chunk,\n",
    "# and append it to a list. This is memory-efficient.\n",
    "\n",
    "print(f\"Starting to sample '{SOURCE_FILENAME}'...\")\n",
    "\n",
    "# Calculate the fraction of each chunk to sample\n",
    "# We need to estimate the total number of rows first.\n",
    "# A simple way is to get the file size.\n",
    "# A 1GB file might have ~4M rows. A 2.5GB file ~10M.\n",
    "# Let's do a quick pass to count rows for a more accurate sample fraction.\n",
    "\n",
    "print(\"First pass: Counting total rows for accurate sampling fraction...\")\n",
    "total_rows = 0\n",
    "with pd.read_csv(SOURCE_FILENAME, chunksize=CHUNK_SIZE, usecols=['id']) as reader:\n",
    "    for chunk in reader:\n",
    "        total_rows += len(chunk)\n",
    "print(f\"Total rows found: {total_rows}\")\n",
    "\n",
    "# Calculate the sampling fraction\n",
    "sample_frac = TARGET_SAMPLE_SIZE / total_rows\n",
    "print(f\"Target sample size: {TARGET_SAMPLE_SIZE}\")\n",
    "print(f\"Sampling fraction to apply to each chunk: {sample_frac:.6f}\")\n",
    "\n",
    "# --- Second Pass: Sampling ---\n",
    "print(\"Second pass: Reading chunks and sampling...\")\n",
    "sample_chunks = []\n",
    "with pd.read_csv(SOURCE_FILENAME, chunksize=CHUNK_SIZE) as reader:\n",
    "    for chunk in reader:\n",
    "        # Take a random sample from this chunk\n",
    "        chunk_sample = chunk.sample(frac=sample_frac)\n",
    "        sample_chunks.append(chunk_sample)\n",
    "\n",
    "# Concatenate all the small samples into one final DataFrame\n",
    "final_sample_df = pd.concat(sample_chunks, ignore_index=True)\n",
    "\n",
    "print(\"Sampling complete.\")\n",
    "print(f\"Final sample shape: {final_sample_df.shape}\")"
   ]
  },
  {
   "cell_type": "code",
   "execution_count": 7,
   "id": "2ab8b144",
   "metadata": {},
   "outputs": [
    {
     "name": "stdout",
     "output_type": "stream",
     "text": [
      "Successfully saved sample to 'data_sample.csv'\n",
      "\n",
      "Verifying sample file...\n"
     ]
    },
    {
     "name": "stderr",
     "output_type": "stream",
     "text": [
      "C:\\Users\\Ankit Aggarwal\\AppData\\Local\\Temp\\ipykernel_26460\\2554651468.py:11: DtypeWarning: Columns (0,19,59,118,145,146,147) have mixed types. Specify dtype option on import or set low_memory=False.\n",
      "  df_check = pd.read_csv(SAMPLE_FILENAME)\n"
     ]
    },
    {
     "name": "stdout",
     "output_type": "stream",
     "text": [
      "Successfully read back sample file. Shape: (149998, 151)\n",
      "\n",
      "First 5 rows of the sample:\n",
      "         id  member_id  loan_amnt  funded_amnt  funded_amnt_inv        term  \\\n",
      "0  67575322        NaN    27000.0      27000.0          26575.0   60 months   \n",
      "1  62569701        NaN    28000.0      28000.0          28000.0   36 months   \n",
      "2  62390325        NaN    10500.0      10500.0          10500.0   36 months   \n",
      "3  66410552        NaN    14400.0      14400.0          14400.0   36 months   \n",
      "4  64240494        NaN    35000.0      35000.0          34825.0   60 months   \n",
      "\n",
      "   int_rate  installment grade sub_grade  ... hardship_payoff_balance_amount  \\\n",
      "0     23.99       776.58     F        F3  ...                            NaN   \n",
      "1     11.53       923.73     B        B5  ...                            NaN   \n",
      "2      5.32       316.21     A        A1  ...                            NaN   \n",
      "3     12.59       482.36     C        C2  ...                            NaN   \n",
      "4     22.99       986.47     F        F2  ...                            NaN   \n",
      "\n",
      "  hardship_last_payment_amount disbursement_method  debt_settlement_flag  \\\n",
      "0                          NaN                Cash                     N   \n",
      "1                          NaN                Cash                     N   \n",
      "2                          NaN                Cash                     N   \n",
      "3                          NaN                Cash                     N   \n",
      "4                          NaN                Cash                     N   \n",
      "\n",
      "  debt_settlement_flag_date settlement_status settlement_date  \\\n",
      "0                       NaN               NaN             NaN   \n",
      "1                       NaN               NaN             NaN   \n",
      "2                       NaN               NaN             NaN   \n",
      "3                       NaN               NaN             NaN   \n",
      "4                       NaN               NaN             NaN   \n",
      "\n",
      "  settlement_amount settlement_percentage settlement_term  \n",
      "0               NaN                   NaN             NaN  \n",
      "1               NaN                   NaN             NaN  \n",
      "2               NaN                   NaN             NaN  \n",
      "3               NaN                   NaN             NaN  \n",
      "4               NaN                   NaN             NaN  \n",
      "\n",
      "[5 rows x 151 columns]\n",
      "\n",
      "--- Phase 1.2 (Data Sampling) is complete. ---\n"
     ]
    }
   ],
   "source": [
    "# --- Save and Verify ---\n",
    "\n",
    "if final_sample_df.shape[0] > 0:\n",
    "    # Save the new sample DataFrame to a CSV\n",
    "    final_sample_df.to_csv(SAMPLE_FILENAME, index=False)\n",
    "    print(f\"Successfully saved sample to '{SAMPLE_FILENAME}'\")\n",
    "\n",
    "    # Verification step:\n",
    "    print(\"\\nVerifying sample file...\")\n",
    "    try:\n",
    "        df_check = pd.read_csv(SAMPLE_FILENAME)\n",
    "        print(f\"Successfully read back sample file. Shape: {df_check.shape}\")\n",
    "        print(\"\\nFirst 5 rows of the sample:\")\n",
    "        print(df_check.head())\n",
    "    except Exception as e:\n",
    "        print(f\"Error reading back sample file: {e}\")\n",
    "else:\n",
    "    print(\"Error: The final sample DataFrame is empty. Check your file or logic.\")\n",
    "\n",
    "print(\"\\n--- Phase 1.2 (Data Sampling) is complete. ---\")"
   ]
  },
  {
   "cell_type": "code",
   "execution_count": null,
   "id": "a50ac59c",
   "metadata": {},
   "outputs": [],
   "source": []
  }
 ],
 "metadata": {
  "kernelspec": {
   "display_name": ".venv",
   "language": "python",
   "name": "python3"
  },
  "language_info": {
   "codemirror_mode": {
    "name": "ipython",
    "version": 3
   },
   "file_extension": ".py",
   "mimetype": "text/x-python",
   "name": "python",
   "nbconvert_exporter": "python",
   "pygments_lexer": "ipython3",
   "version": "3.13.0"
  }
 },
 "nbformat": 4,
 "nbformat_minor": 5
}
